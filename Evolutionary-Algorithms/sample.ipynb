{
 "cells": [
  {
   "cell_type": "code",
   "execution_count": 10,
   "metadata": {},
   "outputs": [],
   "source": [
    "try:\n",
    "    import deap \n",
    "except ImportError:\n",
    "    %pip install deap \n",
    "    import deap\n",
    "import numpy as np\n",
    "import array"
   ]
  },
  {
   "cell_type": "code",
   "execution_count": 3,
   "metadata": {},
   "outputs": [],
   "source": [
    "def data_(x):\n",
    "    return 1.3*x + 1.9*x**2 - 4.2*x**3 + 5. \n",
    "\n",
    "def sample(inputs):\n",
    "    return np.array([data_(inp) + np.random.normal(5.)] for inp in inputs)"
   ]
  },
  {
   "cell_type": "code",
   "execution_count": 7,
   "metadata": {},
   "outputs": [],
   "source": [
    "from deap import algorithms\n",
    "from deap import base \n",
    "from deap import creator\n",
    "from deap import tools"
   ]
  },
  {
   "cell_type": "code",
   "execution_count": 17,
   "metadata": {},
   "outputs": [],
   "source": [
    "creator.create(\"FitnessMin\",base.Fitness,weights=(-1.0,))\n",
    "creator.create(\"Individual\",np.ndarray,fitness=creator.FitnessMin,strategy=None)\n",
    "creator.create(\"Strategy\",array.array,typecode=\"d\")"
   ]
  },
  {
   "cell_type": "code",
   "execution_count": 21,
   "metadata": {},
   "outputs": [],
   "source": [
    "def generateES(ind_cls,strg_cls,size):\n",
    "    ind = ind_cls(np.random.normal() for _ in range(size))\n",
    "    ind.strategy = strg_cls(np.random.normal() for _ in range(size))\n",
    "    return ind \n",
    "toolbox = base.Toolbox()\n",
    "toolbox.register(\"individual\",generateES,creator.Individual,creator.Strategy,size=10)\n",
    "toolbox.register(\"population\",tools.initRepeat,list,toolbox.individual)"
   ]
  },
  {
   "cell_type": "code",
   "execution_count": 26,
   "metadata": {},
   "outputs": [],
   "source": [
    "def pred(ind,x):\n",
    "    y = 0.0\n",
    "    for i in range(1,10):\n",
    "        y += ind[i-1]*x**i \n",
    "    y += ind[10-1]\n",
    "    return y"
   ]
  },
  {
   "cell_type": "code",
   "execution_count": 27,
   "metadata": {},
   "outputs": [],
   "source": [
    "def fitness(ind,data):\n",
    "    mse = 0. \n",
    "    for x,y in data:\n",
    "        y_ = pred(ind,x)\n",
    "        mse += (y-y_)**2 \n",
    "    return mse/len(data),\n",
    "toolbox.register(\"evaluate\",fitness,data=data_)"
   ]
  },
  {
   "cell_type": "code",
   "execution_count": 29,
   "metadata": {},
   "outputs": [],
   "source": [
    "toolbox.register(\"mate\",tools.cxESBlend,alpha=.1)\n",
    "toolbox.register(\"mutate\",tools.mutESLogNormal,c=1.,indpb=0.3)\n",
    "toolbox.register(\"select\",tools.selTournament,tournsize=3)"
   ]
  },
  {
   "cell_type": "code",
   "execution_count": 30,
   "metadata": {},
   "outputs": [],
   "source": [
    "stats = tools.Statistics(lambda ind: ind.fitness.values)\n",
    "stats.register(\"avg\",np.mean)\n",
    "stats.register(\"std\",np.std)\n",
    "stats.register(\"min\",np.min)\n",
    "stats.register(\"max\",np.max)"
   ]
  },
  {
   "cell_type": "code",
   "execution_count": 32,
   "metadata": {},
   "outputs": [],
   "source": [
    "hof = tools.HallOfFame(1)"
   ]
  },
  {
   "cell_type": "code",
   "execution_count": 33,
   "metadata": {},
   "outputs": [
    {
     "ename": "AttributeError",
     "evalue": "module 'deap.tools' has no attribute 'population'",
     "output_type": "error",
     "traceback": [
      "\u001b[1;31m---------------------------------------------------------------------------\u001b[0m",
      "\u001b[1;31mAttributeError\u001b[0m                            Traceback (most recent call last)",
      "Cell \u001b[1;32mIn[33], line 1\u001b[0m\n\u001b[1;32m----> 1\u001b[0m pop \u001b[39m=\u001b[39m tools\u001b[39m.\u001b[39;49mpopulation(n\u001b[39m=\u001b[39m\u001b[39m10\u001b[39m)\n\u001b[0;32m      2\u001b[0m pop,logbook \u001b[39m=\u001b[39m algorithms\u001b[39m.\u001b[39meaMuCommaLambda(pop,toolbox,mu\u001b[39m=\u001b[39m\u001b[39m10\u001b[39m,lambda_\u001b[39m=\u001b[39m\u001b[39m100\u001b[39m,cxpb\u001b[39m=\u001b[39m\u001b[39m0.6\u001b[39m,mutpb\u001b[39m=\u001b[39m\u001b[39m0.3\u001b[39m,ngen\u001b[39m=\u001b[39m\u001b[39m1\u001b[39m,stats\u001b[39m=\u001b[39mstats,halloffame\u001b[39m=\u001b[39mhof,verbose\u001b[39m=\u001b[39m\u001b[39mTrue\u001b[39;00m)\n",
      "\u001b[1;31mAttributeError\u001b[0m: module 'deap.tools' has no attribute 'population'"
     ]
    }
   ],
   "source": [
    "pop = tools.population(n=10)\n",
    "pop,logbook = algorithms.eaMuCommaLambda(pop,toolbox,mu=10,lambda_=100,cxpb=0.6,mutpb=0.3,ngen=1,stats=stats,halloffame=hof,verbose=True)"
   ]
  },
  {
   "cell_type": "code",
   "execution_count": null,
   "metadata": {},
   "outputs": [],
   "source": []
  }
 ],
 "metadata": {
  "kernelspec": {
   "display_name": "Python 3",
   "language": "python",
   "name": "python3"
  },
  "language_info": {
   "codemirror_mode": {
    "name": "ipython",
    "version": 3
   },
   "file_extension": ".py",
   "mimetype": "text/x-python",
   "name": "python",
   "nbconvert_exporter": "python",
   "pygments_lexer": "ipython3",
   "version": "3.10.8"
  },
  "orig_nbformat": 4
 },
 "nbformat": 4,
 "nbformat_minor": 2
}
